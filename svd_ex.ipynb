{
 "cells": [
  {
   "cell_type": "markdown",
   "id": "e450df6a",
   "metadata": {},
   "source": [
    "# SVD \n",
    "## Getting Started with  $$Singular Value Decomposition $$  in Python\n",
    "### https://www.section.io/engineering-education/singular-value-decomposition-in-python/"
   ]
  },
  {
   "cell_type": "code",
   "execution_count": 2,
   "id": "585669c5",
   "metadata": {},
   "outputs": [],
   "source": [
    "import numpy as np\n",
    "from scipy.linalg import svd"
   ]
  },
  {
   "cell_type": "code",
   "execution_count": 17,
   "id": "09948ea3",
   "metadata": {},
   "outputs": [
    {
     "name": "stdout",
     "output_type": "stream",
     "text": [
      "A= [[ 3  1  1]\n",
      " [-1  3  1]]\n",
      "\n",
      " U= [[-0.70710678 -0.70710678]\n",
      " [-0.70710678  0.70710678]]\n",
      "\n",
      "S= [3.46410162 3.16227766]\n",
      "\n",
      "V_T= [[-4.08248290e-01 -8.16496581e-01 -4.08248290e-01]\n",
      " [-8.94427191e-01  4.47213595e-01  5.27355937e-16]\n",
      " [-1.82574186e-01 -3.65148372e-01  9.12870929e-01]]\n"
     ]
    }
   ],
   "source": [
    "# define a matrix\n",
    "A = np.array([[3, 1, 1], [-1, 3, 1]])\n",
    "print(\"A=\",A)\n",
    "\n",
    "# SVD\n",
    "U, S, V_T = svd(A)\n",
    "\n",
    "# left singular vectors\n",
    "print(\"\\n U=\",U)\n",
    "\n",
    "# singular values\n",
    "print(\"\\nS=\",S)\n",
    "\n",
    "#right singular vectors\n",
    "print(\"\\nV_T=\",V_T)\n"
   ]
  },
  {
   "cell_type": "code",
   "execution_count": 8,
   "id": "cf0b6af0",
   "metadata": {},
   "outputs": [
    {
     "data": {
      "text/plain": [
       "array([[3.46410162, 0.        , 0.        ],\n",
       "       [0.        , 3.16227766, 0.        ]])"
      ]
     },
     "execution_count": 8,
     "metadata": {},
     "output_type": "execute_result"
    }
   ],
   "source": [
    "S_diag = np.array([[3.46410162, 0, 0], [0, 3.16227766, 0]])\n",
    "S_diag\n"
   ]
  },
  {
   "cell_type": "code",
   "execution_count": 9,
   "id": "d7d654b2",
   "metadata": {},
   "outputs": [
    {
     "name": "stdout",
     "output_type": "stream",
     "text": [
      "Reconstructed matrix:\n",
      "[[ 3.  1.  1.]\n",
      " [-1.  3.  1.]]\n"
     ]
    }
   ],
   "source": [
    "B = U.dot(S_diag.dot(V_T))\n",
    "print(\"Reconstructed matrix:\")\n",
    "print(B)"
   ]
  },
  {
   "cell_type": "code",
   "execution_count": null,
   "id": "b395383a",
   "metadata": {},
   "outputs": [],
   "source": []
  },
  {
   "cell_type": "code",
   "execution_count": null,
   "id": "f8824b1a",
   "metadata": {},
   "outputs": [],
   "source": [
    "import numpy as np\n",
    "from scipy.linalg import svd\n",
    "# define a matrix\n",
    "A = np.array([[3, 1, 1], [-1, 3, 1]])\n",
    "print(\"A=\",A)\n",
    "\n",
    "# SVD\n",
    "U, S, V_T = svd(A)\n",
    "\n",
    "# left singular vectors\n",
    "print(\"\\n U=\",U)\n",
    "\n",
    "# singular values\n",
    "print(\"\\nS=\",S)\n",
    "\n",
    "#right singular vectors\n",
    "print(\"\\nV_T=\",V_T)\n",
    "\n",
    "S_diag = np.array([[3.46410162, 0, 0], [0, 3.16227766, 0]])\n",
    "S_diag\n",
    "B = U.dot(S_diag.dot(V_T))\n",
    "print(\"Reconstructed matrix:\")\n",
    "print(B)\n"
   ]
  },
  {
   "cell_type": "code",
   "execution_count": null,
   "id": "ea177ce5",
   "metadata": {},
   "outputs": [],
   "source": []
  },
  {
   "cell_type": "code",
   "execution_count": null,
   "id": "02f4b045",
   "metadata": {},
   "outputs": [],
   "source": []
  },
  {
   "cell_type": "code",
   "execution_count": null,
   "id": "a4e13406",
   "metadata": {},
   "outputs": [],
   "source": []
  },
  {
   "cell_type": "code",
   "execution_count": null,
   "id": "c2e9a81e",
   "metadata": {},
   "outputs": [],
   "source": []
  },
  {
   "cell_type": "markdown",
   "id": "db67c304",
   "metadata": {},
   "source": [
    "### AAT\n",
    "### λ1=10 \n",
    "### λ2=12 The Eigenvectors corresponding to the above\n",
    "### u⃗ 1=[1 1] ,and\n",
    "### u⃗ 2=[1 −1]\n",
    "\n",
    "### Gram-Schimidt process\n",
    "### v⃗ 1=u⃗ 1\n",
    "### w⃗ =v⃗ 1|v⃗ 1|=[12√ 12√]\n",
    "### v⃗ 2=u⃗ 2−<u⃗ 2,v⃗ 1><v⃗ 1,v⃗ 1>v⃗ 1\n",
    "\n",
    "### v⃗ 2=[1 −1]−0[1 1]=[1 −1]−[0,0]=[1 −1]\n",
    "### w⃗ 2=v⃗ 2|v⃗ 2|=[12√,−12√]\n",
    "\n",
    "### Therefore; U=[12√12√ 12√−12√ ]"
   ]
  },
  {
   "cell_type": "markdown",
   "id": "6f69bd02",
   "metadata": {},
   "source": [
    "#### \n",
    "#### \n",
    "#### \n",
    "#### \n",
    "\n",
    "\n",
    "#### a=A.dot(A.T)   #  or ===> a=dot(A,A.T)\n",
    "#### eigenvalue,eigenvector=np.linalg.eig(a)\n",
    "#### print('vector proprios')\n",
    "#### for i in range(len(eigenvalue)):\n",
    "####     print('lambda',i+1,\":\",eigenvalue[i])\n",
    "\n",
    "    \n",
    "#### #out_put    \n",
    "#### vector proprios\n",
    "#### lambda 1 : 12.0\n",
    "#### lambda 2 : 10.0"
   ]
  },
  {
   "cell_type": "markdown",
   "id": "b3649ba4",
   "metadata": {},
   "source": [
    "#  **********************    gram-schmitd   ******************\n",
    "\n",
    "\n",
    "def gs_cofficient(v1, v2): \n",
    "    return np.dot(v2, v1) / np.dot(v1, v1) \n",
    "\n",
    "def multiply(cofficient, v):\n",
    "    return map((lambda x : x * cofficient), v) \n",
    "\n",
    "def proj(v1, v2):\n",
    "    return multiply(gs_cofficient(v1, v2) , v1) \n",
    "\n",
    "def gs(X):\n",
    "    Y = [] \n",
    "    for i in range(len(X)):\n",
    "        temp_vec = X[i] \n",
    "        for inY in Y :\n",
    "            proj_vec = proj(inY, X[i]) \n",
    "            #print \"i =\", i, \", projection vector =\", proj_vec \n",
    "            temp_vec = map(lambda x, y : x - y, temp_vec, proj_vec) \n",
    "            #print(\"i =\", i, \", temporary vector =\",temp_vec \n",
    "        Y.append(temp_vec)\n",
    "    return Y \n",
    " \n",
    "    \n",
    "test = np.array([[3, 1, 1], [-1, 3, 1]])\n",
    "test2 = np.array([[1.0, 1.0, 0.0], [1.0, 3.0, 1.0], [2.0, -1.0, 1.0]]) \n",
    "print(np.array(gs(test))\n",
    "print(np.array(gs(test2))\n",
    "      \n",
    "      "
   ]
  },
  {
   "cell_type": "code",
   "execution_count": null,
   "id": "a513f619",
   "metadata": {},
   "outputs": [],
   "source": []
  },
  {
   "cell_type": "markdown",
   "id": "a0cafb1a",
   "metadata": {},
   "source": [
    "# ATA\n",
    "\n",
    "λ1=12 , λ2=10, and λ3=0 The respective eigenvector for the above λ values are:\n",
    "\n",
    "u⃗ 1=[1 2 1]\n",
    "u⃗ 2=[2 −1 0]\n",
    "u⃗ 3=[1 2 −5]\n",
    "\n",
    "\n",
    "Gram-Schimidt process\n",
    "\n",
    "v⃗ 1=u⃗ 1\n",
    "w⃗ 1=v⃗ 1|v⃗ 1|=[16√,26√,16√]\n",
    "v⃗ 2=u⃗ 2−<u⃗ 2,v⃗ 1><v⃗ 1,v⃗ 1>v⃗ 1\n",
    "v⃗ 2=[2,−1,0]\n",
    "w⃗ 2=v⃗ 2|v⃗ 2|=[25√,−15√,0]\n",
    "v⃗ 3=u⃗ 3−<u⃗ 3,v⃗ 1><v⃗ 1,v⃗ 1>v⃗ 1−<u⃗ 3,v⃗ 2><v⃗ 2,v⃗ 2>v⃗ 2=[−23,−23,103]\n",
    "\n",
    "w⃗ 3=v⃗ 3|v⃗ 3|=[13√0,23√0,−53√0]\n",
    "Therefore: V=[16√25√13√0 26√−15√23√0 16√0−53√0 ]\n",
    "VT=[16√26√16√ 25√−15√0 13√023√0−53√0]\n",
    "\n"
   ]
  },
  {
   "cell_type": "markdown",
   "id": "de36f3e4",
   "metadata": {},
   "source": [
    "## UΣVT=[12√12√ 12√−12√ ][1–√200 01–√00] \n",
    "## [16√26√16√ 25√−15√0 13√023√0−53√0]=[311 −131]=A"
   ]
  },
  {
   "cell_type": "code",
   "execution_count": null,
   "id": "b10cd84e",
   "metadata": {},
   "outputs": [],
   "source": []
  },
  {
   "cell_type": "markdown",
   "id": "03a3666a",
   "metadata": {},
   "source": [
    "# $SVD$\n",
    "### https://machinelearningmastery.com/singular-value-decomposition-for-machine-learning/\n",
    "\n",
    "#### This tutorial is divided into 5 parts; they are:\n",
    "\n",
    "#### Singular-Value Decomposition\n",
    "#### Calculate Singular-Value Decomposition\n",
    "#### Reconstruct Matrix from SVD\n",
    "#### SVD for Pseudoinverse\n",
    "#### SVD for Dimensionality Reduction\n"
   ]
  },
  {
   "cell_type": "code",
   "execution_count": 18,
   "id": "b5e1130d",
   "metadata": {},
   "outputs": [
    {
     "name": "stdout",
     "output_type": "stream",
     "text": [
      "A= [[ 3  1  1]\n",
      " [-1  3  1]]\n",
      "\n",
      " U= [[-0.70710678 -0.70710678]\n",
      " [-0.70710678  0.70710678]]\n",
      "\n",
      "S= [3.46410162 3.16227766]\n",
      "\n",
      "V_T= [[-4.08248290e-01 -8.16496581e-01 -4.08248290e-01]\n",
      " [-8.94427191e-01  4.47213595e-01  5.27355937e-16]\n",
      " [-1.82574186e-01 -3.65148372e-01  9.12870929e-01]]\n"
     ]
    }
   ],
   "source": [
    "import numpy as np\n",
    "from scipy.linalg import svd\n",
    "import pandas as pd\n",
    "\n",
    "\n",
    "# define a matrix\n",
    "A = np.array([[3, 1, 1], [-1, 3, 1]])\n",
    "print(\"A=\",A)\n",
    "\n",
    "# SVD\n",
    "U, S, V_T = svd(A)\n",
    "\n",
    "# left singular vectors\n",
    "print(\"\\n U=\",U)\n",
    "\n",
    "# singular values\n",
    "print(\"\\nS=\",S)\n",
    "\n",
    "#right singular vectors\n",
    "print(\"\\nV_T=\",V_T)\n"
   ]
  },
  {
   "cell_type": "code",
   "execution_count": 19,
   "id": "bfd7f9f4",
   "metadata": {},
   "outputs": [
    {
     "ename": "ValueError",
     "evalue": "output array is not acceptable (must have the right datatype, number of dimensions, and be a C-Array)",
     "output_type": "error",
     "traceback": [
      "\u001b[1;31m---------------------------------------------------------------------------\u001b[0m",
      "\u001b[1;31mValueError\u001b[0m                                Traceback (most recent call last)",
      "\u001b[1;32m~\\AppData\\Local\\Temp/ipykernel_7460/4081238149.py\u001b[0m in \u001b[0;36m<module>\u001b[1;34m\u001b[0m\n\u001b[1;32m----> 1\u001b[1;33m \u001b[0mANS\u001b[0m\u001b[1;33m=\u001b[0m\u001b[0mU\u001b[0m\u001b[1;33m.\u001b[0m\u001b[0mdot\u001b[0m\u001b[1;33m(\u001b[0m\u001b[0mS\u001b[0m\u001b[1;33m,\u001b[0m\u001b[0mV_T\u001b[0m\u001b[1;33m)\u001b[0m\u001b[1;33m\u001b[0m\u001b[1;33m\u001b[0m\u001b[0m\n\u001b[0m",
      "\u001b[1;31mValueError\u001b[0m: output array is not acceptable (must have the right datatype, number of dimensions, and be a C-Array)"
     ]
    }
   ],
   "source": [
    "ANS=U.dot(S,V_T)"
   ]
  },
  {
   "cell_type": "code",
   "execution_count": 22,
   "id": "56b9759f",
   "metadata": {},
   "outputs": [
    {
     "name": "stdout",
     "output_type": "stream",
     "text": [
      "[[1 2]\n",
      " [3 4]\n",
      " [5 6]]\n",
      "[[1. 2.]\n",
      " [3. 4.]\n",
      " [5. 6.]]\n"
     ]
    }
   ],
   "source": [
    "# define a matrix\n",
    "A = np.array([[1, 2], [3, 4], [5, 6]])\n",
    "print(A)\n",
    "# Singular-value decomposition\n",
    "U, s, VT = svd(A)\n",
    "\n",
    "\n",
    "# create m x n Sigma matrix\n",
    "Sigma = np.zeros((A.shape[0], A.shape[1]))\n",
    "\n",
    "# populate Sigma with n x n diagonal matrix\n",
    "Sigma[:A.shape[1], :A.shape[1]] = np.diag(s)\n",
    "\n",
    "# reconstruct matrix\n",
    "B = U.dot(Sigma.dot(VT))\n",
    "\n",
    "print(B)"
   ]
  },
  {
   "cell_type": "code",
   "execution_count": 39,
   "id": "6171ac6f",
   "metadata": {},
   "outputs": [
    {
     "data": {
      "text/plain": [
       "3"
      ]
     },
     "execution_count": 39,
     "metadata": {},
     "output_type": "execute_result"
    }
   ],
   "source": [
    "A.shape[1]  #  =2\n",
    "A.shape[-1] #  =3\n",
    "A.shape[0]  #  =3\n"
   ]
  },
  {
   "cell_type": "code",
   "execution_count": 25,
   "id": "6a2a01b0",
   "metadata": {},
   "outputs": [
    {
     "data": {
      "text/plain": [
       "array([[9.52551809, 0.        ],\n",
       "       [0.        , 0.51430058],\n",
       "       [0.        , 0.        ]])"
      ]
     },
     "execution_count": 25,
     "metadata": {},
     "output_type": "execute_result"
    }
   ],
   "source": [
    "ans=A.shape[1]\n",
    "Sigma[:ans, :ans] = np.diag(s)\n",
    "Sigma\n"
   ]
  },
  {
   "cell_type": "code",
   "execution_count": 35,
   "id": "728abc8b",
   "metadata": {},
   "outputs": [
    {
     "name": "stdout",
     "output_type": "stream",
     "text": [
      "[[1 2 3]\n",
      " [4 5 6]\n",
      " [7 8 9]]\n",
      "[[1. 2. 3.]\n",
      " [4. 5. 6.]\n",
      " [7. 8. 9.]]\n"
     ]
    }
   ],
   "source": [
    "A = np.array([[1, 2, 3], [4, 5, 6], [7, 8, 9]])\n",
    "print(A)\n",
    "# Singular-value decomposition\n",
    "U, s, VT = svd(A)\n",
    "# create n x n Sigma matrix\n",
    "Sigma = np.diag(s)\n",
    "# reconstruct matrix\n",
    "B = U.dot(Sigma.dot(VT))\n",
    "print(B)"
   ]
  },
  {
   "cell_type": "code",
   "execution_count": 33,
   "id": "0c0a7c8c",
   "metadata": {},
   "outputs": [
    {
     "name": "stdout",
     "output_type": "stream",
     "text": [
      "[[1 2 3]\n",
      " [4 5 6]\n",
      " [7 8 9]]\n",
      "[-11.01480989  10.81497867   6.83448604] \n",
      " \n",
      " [1.68481034e+01 1.06836951e+00 4.41842475e-16] \n",
      " \n",
      " [[-0.21483724  0.88723069  0.40824829]\n",
      " [-0.52058739  0.24964395 -0.81649658]\n",
      " [-0.82633754 -0.38794278  0.40824829]] \n",
      " \n",
      " [[-0.47967118 -0.57236779 -0.66506441]\n",
      " [-0.77669099 -0.07568647  0.62531805]\n",
      " [-0.40824829  0.81649658 -0.40824829]]\n"
     ]
    }
   ],
   "source": [
    "A = np.array([[1, 2, 3], [4, 5, 6], [7, 8, 9]])\n",
    "print(A)\n",
    "# Singular-value decomposition\n",
    "U, S, VT = svd(A)\n",
    "# create n x n Sigma matrix\n",
    "#Sigma = np.diag(s)\n",
    "# reconstruct matrix\n",
    "B = U.dot(S.dot(VT))\n",
    "print(B,\"\\n\",\"\\n\",S,\"\\n\",\"\\n\",U,\"\\n\",\"\\n\",VT)"
   ]
  },
  {
   "cell_type": "code",
   "execution_count": 37,
   "id": "b08c0702",
   "metadata": {},
   "outputs": [
    {
     "name": "stdout",
     "output_type": "stream",
     "text": [
      "[[1. 2. 3.]\n",
      " [4. 5. 6.]\n",
      " [7. 8. 9.]]\n"
     ]
    }
   ],
   "source": [
    "U*Sigma*VT\n",
    "B = U.dot(Sigma.dot(VT))\n",
    "print(B)"
   ]
  },
  {
   "cell_type": "markdown",
   "id": "96da5942",
   "metadata": {},
   "source": [
    "# reduce "
   ]
  },
  {
   "cell_type": "code",
   "execution_count": 47,
   "id": "0519f356",
   "metadata": {},
   "outputs": [
    {
     "name": "stdout",
     "output_type": "stream",
     "text": [
      "[[ 1  2  3  4  5  6  7  8  9 10]\n",
      " [11 12 13 14 15 16 17 18 19 20]\n",
      " [21 22 23 24 25 26 27 28 29 30]]\n",
      "[[ 1.  2.  3.  4.  5.  6.  7.  8.  9. 10.]\n",
      " [11. 12. 13. 14. 15. 16. 17. 18. 19. 20.]\n",
      " [21. 22. 23. 24. 25. 26. 27. 28. 29. 30.]]\n",
      "[[-18.52157747   6.47697214]\n",
      " [-49.81310011   1.91182038]\n",
      " [-81.10462276  -2.65333138]]\n",
      "[[-18.52157747   6.47697214]\n",
      " [-49.81310011   1.91182038]\n",
      " [-81.10462276  -2.65333138]]\n"
     ]
    }
   ],
   "source": [
    "\n",
    "from scipy.linalg import svd\n",
    "A = np.array([\n",
    "\t[1,2,3,4,5,6,7,8,9,10],\n",
    "\t[11,12,13,14,15,16,17,18,19,20],\n",
    "\t[21,22,23,24,25,26,27,28,29,30]])\n",
    "print(A)\n",
    "# Singular-value decomposition\n",
    "U, s, VT = svd(A)\n",
    "# create m x n Sigma matrix\n",
    "Sigma = np.zeros((A.shape[0], A.shape[1]))\n",
    "# populate Sigma with n x n diagonal matrix\n",
    "Sigma[:A.shape[0], :A.shape[0]] =np.diag(s)\n",
    "# select\n",
    "n_elements = 2\n",
    "Sigma = Sigma[:, :n_elements]\n",
    "VT = VT[:n_elements, :]\n",
    "# reconstruct\n",
    "B = U.dot(Sigma.dot(VT))\n",
    "print(B)\n",
    "# transform\n",
    "T = U.dot(Sigma)\n",
    "print(T)\n",
    "T = A.dot(VT.T)\n",
    "print(T)"
   ]
  },
  {
   "cell_type": "code",
   "execution_count": 48,
   "id": "7e468034",
   "metadata": {},
   "outputs": [
    {
     "name": "stdout",
     "output_type": "stream",
     "text": [
      "[[ 1  2  3  4  5  6  7  8  9 10]\n",
      " [11 12 13 14 15 16 17 18 19 20]\n",
      " [21 22 23 24 25 26 27 28 29 30]]\n",
      "[[18.52157747  6.47697214]\n",
      " [49.81310011  1.91182038]\n",
      " [81.10462276 -2.65333138]]\n"
     ]
    }
   ],
   "source": [
    "from sklearn.decomposition import TruncatedSVD\n",
    "# define array\n",
    "A = np.array([[1,2,3,4,5,6,7,8,9,10],\n",
    "            [11,12,13,14,15,16,17,18,19,20],\n",
    "            [21,22,23,24,25,26,27,28,29,30]])\n",
    "print(A)\n",
    "# svd\n",
    "svd = TruncatedSVD(n_components=2)\n",
    "svd.fit(A)\n",
    "result = svd.transform(A)\n",
    "print(result)"
   ]
  },
  {
   "cell_type": "markdown",
   "id": "47949a85",
   "metadata": {},
   "source": [
    "# \n",
    "\n",
    "## https://numpy.org/doc/stable/reference/generated/numpy.linalg.svd.html"
   ]
  },
  {
   "cell_type": "code",
   "execution_count": 51,
   "id": "87ab59b9",
   "metadata": {},
   "outputs": [
    {
     "data": {
      "text/plain": [
       "True"
      ]
     },
     "execution_count": 51,
     "metadata": {},
     "output_type": "execute_result"
    }
   ],
   "source": [
    "#Reconstruction based on reduced SVD, 2D case:  \n",
    "u, s, vh = np.linalg.svd(a, full_matrices=False)\n",
    "u.shape, s.shape, vh.shape\n",
    "np.allclose(a, np.dot(u * s, vh))\n",
    "smat = np.diag(s)\n",
    "np.allclose(a, np.dot(u, np.dot(smat, vh)))\n",
    "\n",
    "# Reconstruction based on full SVD, 4D case:\n",
    "u, s, vh = np.linalg.svd(a, full_matrices=True)\n",
    "u.shape, s.shape, vh.shape\n",
    "np.allclose(a, np.matmul(u[..., :3] * s[..., None, :], vh))\n",
    "np.allclose(a, np.matmul(u[..., :3], s[..., None] * vh))\n",
    "\n",
    "\n",
    "\n",
    "#Reconstruction based on reduced SVD, 4D case:\n",
    "u, s, vh = np.linalg.svd(a, full_matrices=False)\n",
    "u.shape, s.shape, vh.shape\n",
    "np.allclose(a, np.matmul(u * s[..., None, :], vh))\n",
    "np.allclose(a, np.matmul(u, s[..., None] * vh))\n"
   ]
  },
  {
   "cell_type": "code",
   "execution_count": null,
   "id": "14d6ba60",
   "metadata": {},
   "outputs": [],
   "source": []
  },
  {
   "cell_type": "code",
   "execution_count": null,
   "id": "a154ce05",
   "metadata": {},
   "outputs": [],
   "source": []
  }
 ],
 "metadata": {
  "kernelspec": {
   "display_name": "Python 3 (ipykernel)",
   "language": "python",
   "name": "python3"
  },
  "language_info": {
   "codemirror_mode": {
    "name": "ipython",
    "version": 3
   },
   "file_extension": ".py",
   "mimetype": "text/x-python",
   "name": "python",
   "nbconvert_exporter": "python",
   "pygments_lexer": "ipython3",
   "version": "3.7.2"
  }
 },
 "nbformat": 4,
 "nbformat_minor": 5
}
